{
 "cells": [
  {
   "cell_type": "code",
   "execution_count": null,
   "metadata": {},
   "outputs": [],
   "source": []
  },
  {
   "cell_type": "code",
   "execution_count": null,
   "metadata": {},
   "outputs": [],
   "source": []
  },
  {
   "cell_type": "code",
   "execution_count": null,
   "metadata": {},
   "outputs": [],
   "source": []
  },
  {
   "cell_type": "code",
   "execution_count": 1,
   "metadata": {},
   "outputs": [],
   "source": [
    "import numpy as np\n",
    "import pandas as pd\n",
    "import matplotlib.pyplot as plt\n",
    "import seaborn as sns\n",
    "sns.set(palette='rainbow')\n",
    "\n"
   ]
  },
  {
   "cell_type": "code",
   "execution_count": 2,
   "metadata": {},
   "outputs": [],
   "source": [
    "#loading the clean data"
   ]
  },
  {
   "cell_type": "code",
   "execution_count": 3,
   "metadata": {},
   "outputs": [],
   "source": [
    "data = pd.read_csv('clean_data.csv')"
   ]
  },
  {
   "cell_type": "code",
   "execution_count": 4,
   "metadata": {},
   "outputs": [
    {
     "data": {
      "text/html": [
       "<div>\n",
       "<style scoped>\n",
       "    .dataframe tbody tr th:only-of-type {\n",
       "        vertical-align: middle;\n",
       "    }\n",
       "\n",
       "    .dataframe tbody tr th {\n",
       "        vertical-align: top;\n",
       "    }\n",
       "\n",
       "    .dataframe thead th {\n",
       "        text-align: right;\n",
       "    }\n",
       "</style>\n",
       "<table border=\"1\" class=\"dataframe\">\n",
       "  <thead>\n",
       "    <tr style=\"text-align: right;\">\n",
       "      <th></th>\n",
       "      <th>age</th>\n",
       "      <th>brush</th>\n",
       "      <th>tfb</th>\n",
       "      <th>bth</th>\n",
       "      <th>smoke in a day</th>\n",
       "      <th>drink alcohol</th>\n",
       "      <th>coffee</th>\n",
       "      <th>sweet</th>\n",
       "      <th>fastfood</th>\n",
       "      <th>binge eating</th>\n",
       "      <th>soft drinks-soda</th>\n",
       "      <th>open packets</th>\n",
       "      <th>chewing pen</th>\n",
       "      <th>nail biting</th>\n",
       "      <th>grinding teeth</th>\n",
       "      <th>betel leaf-nut</th>\n",
       "      <th>toothpick</th>\n",
       "      <th>chocolate</th>\n",
       "      <th>diabetes</th>\n",
       "      <th>target</th>\n",
       "    </tr>\n",
       "  </thead>\n",
       "  <tbody>\n",
       "    <tr>\n",
       "      <td>0</td>\n",
       "      <td>21</td>\n",
       "      <td>4</td>\n",
       "      <td>2</td>\n",
       "      <td>0</td>\n",
       "      <td>3</td>\n",
       "      <td>0</td>\n",
       "      <td>1</td>\n",
       "      <td>0</td>\n",
       "      <td>1</td>\n",
       "      <td>1</td>\n",
       "      <td>1.0</td>\n",
       "      <td>0</td>\n",
       "      <td>0</td>\n",
       "      <td>0</td>\n",
       "      <td>0</td>\n",
       "      <td>1</td>\n",
       "      <td>1</td>\n",
       "      <td>1</td>\n",
       "      <td>0</td>\n",
       "      <td>0</td>\n",
       "    </tr>\n",
       "    <tr>\n",
       "      <td>1</td>\n",
       "      <td>22</td>\n",
       "      <td>4</td>\n",
       "      <td>1</td>\n",
       "      <td>0</td>\n",
       "      <td>4</td>\n",
       "      <td>1</td>\n",
       "      <td>1</td>\n",
       "      <td>1</td>\n",
       "      <td>1</td>\n",
       "      <td>0</td>\n",
       "      <td>2.0</td>\n",
       "      <td>1</td>\n",
       "      <td>0</td>\n",
       "      <td>1</td>\n",
       "      <td>0</td>\n",
       "      <td>0</td>\n",
       "      <td>0</td>\n",
       "      <td>1</td>\n",
       "      <td>0</td>\n",
       "      <td>0</td>\n",
       "    </tr>\n",
       "    <tr>\n",
       "      <td>2</td>\n",
       "      <td>23</td>\n",
       "      <td>4</td>\n",
       "      <td>2</td>\n",
       "      <td>1</td>\n",
       "      <td>2</td>\n",
       "      <td>1</td>\n",
       "      <td>1</td>\n",
       "      <td>0</td>\n",
       "      <td>1</td>\n",
       "      <td>1</td>\n",
       "      <td>3.0</td>\n",
       "      <td>1</td>\n",
       "      <td>0</td>\n",
       "      <td>1</td>\n",
       "      <td>0</td>\n",
       "      <td>0</td>\n",
       "      <td>1</td>\n",
       "      <td>1</td>\n",
       "      <td>1</td>\n",
       "      <td>1</td>\n",
       "    </tr>\n",
       "    <tr>\n",
       "      <td>3</td>\n",
       "      <td>23</td>\n",
       "      <td>4</td>\n",
       "      <td>2</td>\n",
       "      <td>1</td>\n",
       "      <td>4</td>\n",
       "      <td>1</td>\n",
       "      <td>1</td>\n",
       "      <td>0</td>\n",
       "      <td>1</td>\n",
       "      <td>1</td>\n",
       "      <td>1.0</td>\n",
       "      <td>0</td>\n",
       "      <td>0</td>\n",
       "      <td>1</td>\n",
       "      <td>0</td>\n",
       "      <td>0</td>\n",
       "      <td>0</td>\n",
       "      <td>1</td>\n",
       "      <td>0</td>\n",
       "      <td>1</td>\n",
       "    </tr>\n",
       "    <tr>\n",
       "      <td>4</td>\n",
       "      <td>19</td>\n",
       "      <td>4</td>\n",
       "      <td>1</td>\n",
       "      <td>1</td>\n",
       "      <td>6</td>\n",
       "      <td>1</td>\n",
       "      <td>0</td>\n",
       "      <td>0</td>\n",
       "      <td>1</td>\n",
       "      <td>1</td>\n",
       "      <td>3.0</td>\n",
       "      <td>0</td>\n",
       "      <td>0</td>\n",
       "      <td>0</td>\n",
       "      <td>1</td>\n",
       "      <td>0</td>\n",
       "      <td>1</td>\n",
       "      <td>0</td>\n",
       "      <td>0</td>\n",
       "      <td>1</td>\n",
       "    </tr>\n",
       "  </tbody>\n",
       "</table>\n",
       "</div>"
      ],
      "text/plain": [
       "   age  brush  tfb  bth  smoke in a day  drink alcohol  coffee  sweet  \\\n",
       "0   21      4    2    0               3              0       1      0   \n",
       "1   22      4    1    0               4              1       1      1   \n",
       "2   23      4    2    1               2              1       1      0   \n",
       "3   23      4    2    1               4              1       1      0   \n",
       "4   19      4    1    1               6              1       0      0   \n",
       "\n",
       "   fastfood  binge eating  soft drinks-soda  open packets  chewing pen  \\\n",
       "0         1             1               1.0             0            0   \n",
       "1         1             0               2.0             1            0   \n",
       "2         1             1               3.0             1            0   \n",
       "3         1             1               1.0             0            0   \n",
       "4         1             1               3.0             0            0   \n",
       "\n",
       "   nail biting  grinding teeth  betel leaf-nut  toothpick  chocolate  \\\n",
       "0            0               0               1          1          1   \n",
       "1            1               0               0          0          1   \n",
       "2            1               0               0          1          1   \n",
       "3            1               0               0          0          1   \n",
       "4            0               1               0          1          0   \n",
       "\n",
       "   diabetes  target  \n",
       "0         0       0  \n",
       "1         0       0  \n",
       "2         1       1  \n",
       "3         0       1  \n",
       "4         0       1  "
      ]
     },
     "execution_count": 4,
     "metadata": {},
     "output_type": "execute_result"
    }
   ],
   "source": [
    "data.head()"
   ]
  },
  {
   "cell_type": "code",
   "execution_count": 5,
   "metadata": {},
   "outputs": [
    {
     "name": "stdout",
     "output_type": "stream",
     "text": [
      "<class 'pandas.core.frame.DataFrame'>\n",
      "RangeIndex: 1012 entries, 0 to 1011\n",
      "Data columns (total 20 columns):\n",
      "age                 1012 non-null int64\n",
      "brush               1012 non-null int64\n",
      "tfb                 1012 non-null int64\n",
      "bth                 1012 non-null int64\n",
      "smoke in a day      1012 non-null int64\n",
      "drink alcohol       1012 non-null int64\n",
      "coffee              1012 non-null int64\n",
      "sweet               1012 non-null int64\n",
      "fastfood            1012 non-null int64\n",
      "binge eating        1012 non-null int64\n",
      "soft drinks-soda    1012 non-null float64\n",
      "open packets        1012 non-null int64\n",
      "chewing pen         1012 non-null int64\n",
      "nail biting         1012 non-null int64\n",
      "grinding teeth      1012 non-null int64\n",
      "betel leaf-nut      1012 non-null int64\n",
      "toothpick           1012 non-null int64\n",
      "chocolate           1012 non-null int64\n",
      "diabetes            1012 non-null int64\n",
      "target              1012 non-null int64\n",
      "dtypes: float64(1), int64(19)\n",
      "memory usage: 158.2 KB\n"
     ]
    }
   ],
   "source": [
    "data.info()"
   ]
  },
  {
   "cell_type": "code",
   "execution_count": 6,
   "metadata": {},
   "outputs": [
    {
     "data": {
      "text/html": [
       "<div>\n",
       "<style scoped>\n",
       "    .dataframe tbody tr th:only-of-type {\n",
       "        vertical-align: middle;\n",
       "    }\n",
       "\n",
       "    .dataframe tbody tr th {\n",
       "        vertical-align: top;\n",
       "    }\n",
       "\n",
       "    .dataframe thead th {\n",
       "        text-align: right;\n",
       "    }\n",
       "</style>\n",
       "<table border=\"1\" class=\"dataframe\">\n",
       "  <thead>\n",
       "    <tr style=\"text-align: right;\">\n",
       "      <th></th>\n",
       "      <th>age</th>\n",
       "      <th>brush</th>\n",
       "      <th>tfb</th>\n",
       "      <th>bth</th>\n",
       "      <th>smoke in a day</th>\n",
       "      <th>drink alcohol</th>\n",
       "      <th>coffee</th>\n",
       "      <th>sweet</th>\n",
       "      <th>fastfood</th>\n",
       "      <th>binge eating</th>\n",
       "      <th>soft drinks-soda</th>\n",
       "      <th>open packets</th>\n",
       "      <th>chewing pen</th>\n",
       "      <th>nail biting</th>\n",
       "      <th>grinding teeth</th>\n",
       "      <th>betel leaf-nut</th>\n",
       "      <th>toothpick</th>\n",
       "      <th>chocolate</th>\n",
       "      <th>diabetes</th>\n",
       "      <th>target</th>\n",
       "    </tr>\n",
       "  </thead>\n",
       "  <tbody>\n",
       "    <tr>\n",
       "      <td>count</td>\n",
       "      <td>1012.000000</td>\n",
       "      <td>1012.000000</td>\n",
       "      <td>1012.000000</td>\n",
       "      <td>1012.000000</td>\n",
       "      <td>1012.000000</td>\n",
       "      <td>1012.000000</td>\n",
       "      <td>1012.000000</td>\n",
       "      <td>1012.000000</td>\n",
       "      <td>1012.000000</td>\n",
       "      <td>1012.000000</td>\n",
       "      <td>1012.000000</td>\n",
       "      <td>1012.000000</td>\n",
       "      <td>1012.000000</td>\n",
       "      <td>1012.00000</td>\n",
       "      <td>1012.000000</td>\n",
       "      <td>1012.000000</td>\n",
       "      <td>1012.000000</td>\n",
       "      <td>1012.000000</td>\n",
       "      <td>1012.000000</td>\n",
       "      <td>1012.000000</td>\n",
       "    </tr>\n",
       "    <tr>\n",
       "      <td>mean</td>\n",
       "      <td>28.868577</td>\n",
       "      <td>3.805336</td>\n",
       "      <td>1.264822</td>\n",
       "      <td>0.294466</td>\n",
       "      <td>3.409091</td>\n",
       "      <td>0.389328</td>\n",
       "      <td>0.798419</td>\n",
       "      <td>0.544466</td>\n",
       "      <td>0.652174</td>\n",
       "      <td>0.311265</td>\n",
       "      <td>1.923913</td>\n",
       "      <td>0.753953</td>\n",
       "      <td>0.243083</td>\n",
       "      <td>0.55336</td>\n",
       "      <td>0.175889</td>\n",
       "      <td>0.534585</td>\n",
       "      <td>0.218379</td>\n",
       "      <td>0.751976</td>\n",
       "      <td>0.148221</td>\n",
       "      <td>0.600791</td>\n",
       "    </tr>\n",
       "    <tr>\n",
       "      <td>std</td>\n",
       "      <td>9.704615</td>\n",
       "      <td>0.744682</td>\n",
       "      <td>0.556437</td>\n",
       "      <td>0.456028</td>\n",
       "      <td>2.645309</td>\n",
       "      <td>0.487839</td>\n",
       "      <td>0.401379</td>\n",
       "      <td>0.498265</td>\n",
       "      <td>0.476516</td>\n",
       "      <td>0.463240</td>\n",
       "      <td>0.830395</td>\n",
       "      <td>0.430919</td>\n",
       "      <td>0.429157</td>\n",
       "      <td>0.49739</td>\n",
       "      <td>0.380914</td>\n",
       "      <td>0.499049</td>\n",
       "      <td>0.413351</td>\n",
       "      <td>0.432079</td>\n",
       "      <td>0.355495</td>\n",
       "      <td>0.489978</td>\n",
       "    </tr>\n",
       "    <tr>\n",
       "      <td>min</td>\n",
       "      <td>2.000000</td>\n",
       "      <td>0.000000</td>\n",
       "      <td>1.000000</td>\n",
       "      <td>0.000000</td>\n",
       "      <td>0.000000</td>\n",
       "      <td>0.000000</td>\n",
       "      <td>0.000000</td>\n",
       "      <td>0.000000</td>\n",
       "      <td>0.000000</td>\n",
       "      <td>0.000000</td>\n",
       "      <td>0.000000</td>\n",
       "      <td>0.000000</td>\n",
       "      <td>0.000000</td>\n",
       "      <td>0.00000</td>\n",
       "      <td>0.000000</td>\n",
       "      <td>0.000000</td>\n",
       "      <td>0.000000</td>\n",
       "      <td>0.000000</td>\n",
       "      <td>0.000000</td>\n",
       "      <td>0.000000</td>\n",
       "    </tr>\n",
       "    <tr>\n",
       "      <td>25%</td>\n",
       "      <td>22.000000</td>\n",
       "      <td>4.000000</td>\n",
       "      <td>1.000000</td>\n",
       "      <td>0.000000</td>\n",
       "      <td>0.000000</td>\n",
       "      <td>0.000000</td>\n",
       "      <td>1.000000</td>\n",
       "      <td>0.000000</td>\n",
       "      <td>0.000000</td>\n",
       "      <td>0.000000</td>\n",
       "      <td>1.000000</td>\n",
       "      <td>1.000000</td>\n",
       "      <td>0.000000</td>\n",
       "      <td>0.00000</td>\n",
       "      <td>0.000000</td>\n",
       "      <td>0.000000</td>\n",
       "      <td>0.000000</td>\n",
       "      <td>1.000000</td>\n",
       "      <td>0.000000</td>\n",
       "      <td>0.000000</td>\n",
       "    </tr>\n",
       "    <tr>\n",
       "      <td>50%</td>\n",
       "      <td>24.000000</td>\n",
       "      <td>4.000000</td>\n",
       "      <td>1.000000</td>\n",
       "      <td>0.000000</td>\n",
       "      <td>4.000000</td>\n",
       "      <td>0.000000</td>\n",
       "      <td>1.000000</td>\n",
       "      <td>1.000000</td>\n",
       "      <td>1.000000</td>\n",
       "      <td>0.000000</td>\n",
       "      <td>2.000000</td>\n",
       "      <td>1.000000</td>\n",
       "      <td>0.000000</td>\n",
       "      <td>1.00000</td>\n",
       "      <td>0.000000</td>\n",
       "      <td>1.000000</td>\n",
       "      <td>0.000000</td>\n",
       "      <td>1.000000</td>\n",
       "      <td>0.000000</td>\n",
       "      <td>1.000000</td>\n",
       "    </tr>\n",
       "    <tr>\n",
       "      <td>75%</td>\n",
       "      <td>38.000000</td>\n",
       "      <td>4.000000</td>\n",
       "      <td>1.000000</td>\n",
       "      <td>1.000000</td>\n",
       "      <td>6.000000</td>\n",
       "      <td>1.000000</td>\n",
       "      <td>1.000000</td>\n",
       "      <td>1.000000</td>\n",
       "      <td>1.000000</td>\n",
       "      <td>1.000000</td>\n",
       "      <td>3.000000</td>\n",
       "      <td>1.000000</td>\n",
       "      <td>0.000000</td>\n",
       "      <td>1.00000</td>\n",
       "      <td>0.000000</td>\n",
       "      <td>1.000000</td>\n",
       "      <td>0.000000</td>\n",
       "      <td>1.000000</td>\n",
       "      <td>0.000000</td>\n",
       "      <td>1.000000</td>\n",
       "    </tr>\n",
       "    <tr>\n",
       "      <td>max</td>\n",
       "      <td>90.000000</td>\n",
       "      <td>4.000000</td>\n",
       "      <td>3.000000</td>\n",
       "      <td>1.000000</td>\n",
       "      <td>6.000000</td>\n",
       "      <td>1.000000</td>\n",
       "      <td>1.000000</td>\n",
       "      <td>1.000000</td>\n",
       "      <td>1.000000</td>\n",
       "      <td>1.000000</td>\n",
       "      <td>3.000000</td>\n",
       "      <td>1.000000</td>\n",
       "      <td>1.000000</td>\n",
       "      <td>1.00000</td>\n",
       "      <td>1.000000</td>\n",
       "      <td>1.000000</td>\n",
       "      <td>1.000000</td>\n",
       "      <td>1.000000</td>\n",
       "      <td>1.000000</td>\n",
       "      <td>1.000000</td>\n",
       "    </tr>\n",
       "  </tbody>\n",
       "</table>\n",
       "</div>"
      ],
      "text/plain": [
       "               age        brush          tfb          bth  smoke in a day  \\\n",
       "count  1012.000000  1012.000000  1012.000000  1012.000000     1012.000000   \n",
       "mean     28.868577     3.805336     1.264822     0.294466        3.409091   \n",
       "std       9.704615     0.744682     0.556437     0.456028        2.645309   \n",
       "min       2.000000     0.000000     1.000000     0.000000        0.000000   \n",
       "25%      22.000000     4.000000     1.000000     0.000000        0.000000   \n",
       "50%      24.000000     4.000000     1.000000     0.000000        4.000000   \n",
       "75%      38.000000     4.000000     1.000000     1.000000        6.000000   \n",
       "max      90.000000     4.000000     3.000000     1.000000        6.000000   \n",
       "\n",
       "       drink alcohol       coffee        sweet     fastfood  binge eating  \\\n",
       "count    1012.000000  1012.000000  1012.000000  1012.000000   1012.000000   \n",
       "mean        0.389328     0.798419     0.544466     0.652174      0.311265   \n",
       "std         0.487839     0.401379     0.498265     0.476516      0.463240   \n",
       "min         0.000000     0.000000     0.000000     0.000000      0.000000   \n",
       "25%         0.000000     1.000000     0.000000     0.000000      0.000000   \n",
       "50%         0.000000     1.000000     1.000000     1.000000      0.000000   \n",
       "75%         1.000000     1.000000     1.000000     1.000000      1.000000   \n",
       "max         1.000000     1.000000     1.000000     1.000000      1.000000   \n",
       "\n",
       "       soft drinks-soda  open packets  chewing pen  nail biting  \\\n",
       "count       1012.000000   1012.000000  1012.000000   1012.00000   \n",
       "mean           1.923913      0.753953     0.243083      0.55336   \n",
       "std            0.830395      0.430919     0.429157      0.49739   \n",
       "min            0.000000      0.000000     0.000000      0.00000   \n",
       "25%            1.000000      1.000000     0.000000      0.00000   \n",
       "50%            2.000000      1.000000     0.000000      1.00000   \n",
       "75%            3.000000      1.000000     0.000000      1.00000   \n",
       "max            3.000000      1.000000     1.000000      1.00000   \n",
       "\n",
       "       grinding teeth  betel leaf-nut    toothpick    chocolate     diabetes  \\\n",
       "count     1012.000000     1012.000000  1012.000000  1012.000000  1012.000000   \n",
       "mean         0.175889        0.534585     0.218379     0.751976     0.148221   \n",
       "std          0.380914        0.499049     0.413351     0.432079     0.355495   \n",
       "min          0.000000        0.000000     0.000000     0.000000     0.000000   \n",
       "25%          0.000000        0.000000     0.000000     1.000000     0.000000   \n",
       "50%          0.000000        1.000000     0.000000     1.000000     0.000000   \n",
       "75%          0.000000        1.000000     0.000000     1.000000     0.000000   \n",
       "max          1.000000        1.000000     1.000000     1.000000     1.000000   \n",
       "\n",
       "            target  \n",
       "count  1012.000000  \n",
       "mean      0.600791  \n",
       "std       0.489978  \n",
       "min       0.000000  \n",
       "25%       0.000000  \n",
       "50%       1.000000  \n",
       "75%       1.000000  \n",
       "max       1.000000  "
      ]
     },
     "execution_count": 6,
     "metadata": {},
     "output_type": "execute_result"
    }
   ],
   "source": [
    "data.describe()"
   ]
  },
  {
   "cell_type": "code",
   "execution_count": 7,
   "metadata": {},
   "outputs": [],
   "source": [
    "# From the describe() method we can see possible outlier in ['age'] column "
   ]
  },
  {
   "cell_type": "markdown",
   "metadata": {},
   "source": [
    "#### Outliers"
   ]
  },
  {
   "cell_type": "code",
   "execution_count": 8,
   "metadata": {},
   "outputs": [
    {
     "data": {
      "text/plain": [
       "90"
      ]
     },
     "execution_count": 8,
     "metadata": {},
     "output_type": "execute_result"
    }
   ],
   "source": [
    "data['age'].max()"
   ]
  },
  {
   "cell_type": "code",
   "execution_count": 9,
   "metadata": {},
   "outputs": [
    {
     "data": {
      "text/plain": [
       "2"
      ]
     },
     "execution_count": 9,
     "metadata": {},
     "output_type": "execute_result"
    }
   ],
   "source": [
    "data['age'].min()"
   ]
  },
  {
   "cell_type": "code",
   "execution_count": 10,
   "metadata": {},
   "outputs": [
    {
     "data": {
      "image/png": "[encoded data removed]",
      "text/plain": [
       "<Figure size 864x576 with 1 Axes>"
      ]
     },
     "metadata": {
      "needs_background": "light"
     },
     "output_type": "display_data"
    }
   ],
   "source": [
    "fig1, ax1 = plt.subplots(figsize=(12,8))\n",
    "ax1.set_title('Age')\n",
    "ax1.boxplot(data['age'])\n",
    "plt.show()"
   ]
  },
  {
   "cell_type": "code",
   "execution_count": 11,
   "metadata": {},
   "outputs": [
    {
     "data": {
      "text/plain": [
       "218    69\n",
       "831    90\n",
       "894    80\n",
       "Name: age, dtype: int64"
      ]
     },
     "execution_count": 11,
     "metadata": {},
     "output_type": "execute_result"
    }
   ],
   "source": [
    "data['age'][data['age'] > 60] "
   ]
  },
  {
   "cell_type": "code",
   "execution_count": 12,
   "metadata": {},
   "outputs": [
    {
     "data": {
      "text/plain": [
       "227    4\n",
       "842    2\n",
       "Name: age, dtype: int64"
      ]
     },
     "execution_count": 12,
     "metadata": {},
     "output_type": "execute_result"
    }
   ],
   "source": [
    "data['age'][data['age']<10]"
   ]
  },
  {
   "cell_type": "code",
   "execution_count": 13,
   "metadata": {},
   "outputs": [
    {
     "data": {
      "text/plain": [
       "24"
      ]
     },
     "execution_count": 13,
     "metadata": {},
     "output_type": "execute_result"
    }
   ],
   "source": [
    "#median age \n",
    "int(np.median(data['age']))"
   ]
  },
  {
   "cell_type": "code",
   "execution_count": 14,
   "metadata": {},
   "outputs": [
    {
     "name": "stderr",
     "output_type": "stream",
     "text": [
      "E:\\Anaconda3\\lib\\site-packages\\ipykernel_launcher.py:1: SettingWithCopyWarning: \n",
      "A value is trying to be set on a copy of a slice from a DataFrame\n",
      "\n",
      "See the caveats in the documentation: http://pandas.pydata.org/pandas-docs/stable/user_guide/indexing.html#returning-a-view-versus-a-copy\n",
      "  \"\"\"Entry point for launching an IPython kernel.\n"
     ]
    }
   ],
   "source": [
    "data['age'][data['age']>60] = 24"
   ]
  },
  {
   "cell_type": "code",
   "execution_count": 15,
   "metadata": {},
   "outputs": [
    {
     "name": "stderr",
     "output_type": "stream",
     "text": [
      "E:\\Anaconda3\\lib\\site-packages\\ipykernel_launcher.py:1: SettingWithCopyWarning: \n",
      "A value is trying to be set on a copy of a slice from a DataFrame\n",
      "\n",
      "See the caveats in the documentation: http://pandas.pydata.org/pandas-docs/stable/user_guide/indexing.html#returning-a-view-versus-a-copy\n",
      "  \"\"\"Entry point for launching an IPython kernel.\n"
     ]
    }
   ],
   "source": [
    "data['age'][data['age']<10] = 24"
   ]
  },
  {
   "cell_type": "code",
   "execution_count": 16,
   "metadata": {},
   "outputs": [
    {
     "data": {
      "image/png": "[encoded data removed]",
      "text/plain": [
       "<Figure size 864x576 with 1 Axes>"
      ]
     },
     "metadata": {
      "needs_background": "light"
     },
     "output_type": "display_data"
    }
   ],
   "source": [
    "fig1, ax1 = plt.subplots(figsize=(12,8))\n",
    "ax1.set_title('Age')\n",
    "ax1.boxplot(data['age'])\n",
    "plt.show()"
   ]
  },
  {
   "cell_type": "code",
   "execution_count": 17,
   "metadata": {},
   "outputs": [
    {
     "data": {
      "text/html": [
       "<div>\n",
       "<style scoped>\n",
       "    .dataframe tbody tr th:only-of-type {\n",
       "        vertical-align: middle;\n",
       "    }\n",
       "\n",
       "    .dataframe tbody tr th {\n",
       "        vertical-align: top;\n",
       "    }\n",
       "\n",
       "    .dataframe thead th {\n",
       "        text-align: right;\n",
       "    }\n",
       "</style>\n",
       "<table border=\"1\" class=\"dataframe\">\n",
       "  <thead>\n",
       "    <tr style=\"text-align: right;\">\n",
       "      <th></th>\n",
       "      <th>age</th>\n",
       "      <th>brush</th>\n",
       "      <th>tfb</th>\n",
       "      <th>bth</th>\n",
       "      <th>smoke in a day</th>\n",
       "      <th>drink alcohol</th>\n",
       "      <th>coffee</th>\n",
       "      <th>sweet</th>\n",
       "      <th>fastfood</th>\n",
       "      <th>binge eating</th>\n",
       "      <th>soft drinks-soda</th>\n",
       "      <th>open packets</th>\n",
       "      <th>chewing pen</th>\n",
       "      <th>nail biting</th>\n",
       "      <th>grinding teeth</th>\n",
       "      <th>betel leaf-nut</th>\n",
       "      <th>toothpick</th>\n",
       "      <th>chocolate</th>\n",
       "      <th>diabetes</th>\n",
       "      <th>target</th>\n",
       "    </tr>\n",
       "  </thead>\n",
       "  <tbody>\n",
       "    <tr>\n",
       "      <td>count</td>\n",
       "      <td>1012.000000</td>\n",
       "      <td>1012.000000</td>\n",
       "      <td>1012.000000</td>\n",
       "      <td>1012.000000</td>\n",
       "      <td>1012.000000</td>\n",
       "      <td>1012.000000</td>\n",
       "      <td>1012.000000</td>\n",
       "      <td>1012.000000</td>\n",
       "      <td>1012.000000</td>\n",
       "      <td>1012.000000</td>\n",
       "      <td>1012.000000</td>\n",
       "      <td>1012.000000</td>\n",
       "      <td>1012.000000</td>\n",
       "      <td>1012.00000</td>\n",
       "      <td>1012.000000</td>\n",
       "      <td>1012.000000</td>\n",
       "      <td>1012.000000</td>\n",
       "      <td>1012.000000</td>\n",
       "      <td>1012.000000</td>\n",
       "      <td>1012.000000</td>\n",
       "    </tr>\n",
       "    <tr>\n",
       "      <td>mean</td>\n",
       "      <td>28.745059</td>\n",
       "      <td>3.805336</td>\n",
       "      <td>1.264822</td>\n",
       "      <td>0.294466</td>\n",
       "      <td>3.409091</td>\n",
       "      <td>0.389328</td>\n",
       "      <td>0.798419</td>\n",
       "      <td>0.544466</td>\n",
       "      <td>0.652174</td>\n",
       "      <td>0.311265</td>\n",
       "      <td>1.923913</td>\n",
       "      <td>0.753953</td>\n",
       "      <td>0.243083</td>\n",
       "      <td>0.55336</td>\n",
       "      <td>0.175889</td>\n",
       "      <td>0.534585</td>\n",
       "      <td>0.218379</td>\n",
       "      <td>0.751976</td>\n",
       "      <td>0.148221</td>\n",
       "      <td>0.600791</td>\n",
       "    </tr>\n",
       "    <tr>\n",
       "      <td>std</td>\n",
       "      <td>9.223901</td>\n",
       "      <td>0.744682</td>\n",
       "      <td>0.556437</td>\n",
       "      <td>0.456028</td>\n",
       "      <td>2.645309</td>\n",
       "      <td>0.487839</td>\n",
       "      <td>0.401379</td>\n",
       "      <td>0.498265</td>\n",
       "      <td>0.476516</td>\n",
       "      <td>0.463240</td>\n",
       "      <td>0.830395</td>\n",
       "      <td>0.430919</td>\n",
       "      <td>0.429157</td>\n",
       "      <td>0.49739</td>\n",
       "      <td>0.380914</td>\n",
       "      <td>0.499049</td>\n",
       "      <td>0.413351</td>\n",
       "      <td>0.432079</td>\n",
       "      <td>0.355495</td>\n",
       "      <td>0.489978</td>\n",
       "    </tr>\n",
       "    <tr>\n",
       "      <td>min</td>\n",
       "      <td>13.000000</td>\n",
       "      <td>0.000000</td>\n",
       "      <td>1.000000</td>\n",
       "      <td>0.000000</td>\n",
       "      <td>0.000000</td>\n",
       "      <td>0.000000</td>\n",
       "      <td>0.000000</td>\n",
       "      <td>0.000000</td>\n",
       "      <td>0.000000</td>\n",
       "      <td>0.000000</td>\n",
       "      <td>0.000000</td>\n",
       "      <td>0.000000</td>\n",
       "      <td>0.000000</td>\n",
       "      <td>0.00000</td>\n",
       "      <td>0.000000</td>\n",
       "      <td>0.000000</td>\n",
       "      <td>0.000000</td>\n",
       "      <td>0.000000</td>\n",
       "      <td>0.000000</td>\n",
       "      <td>0.000000</td>\n",
       "    </tr>\n",
       "    <tr>\n",
       "      <td>25%</td>\n",
       "      <td>22.000000</td>\n",
       "      <td>4.000000</td>\n",
       "      <td>1.000000</td>\n",
       "      <td>0.000000</td>\n",
       "      <td>0.000000</td>\n",
       "      <td>0.000000</td>\n",
       "      <td>1.000000</td>\n",
       "      <td>0.000000</td>\n",
       "      <td>0.000000</td>\n",
       "      <td>0.000000</td>\n",
       "      <td>1.000000</td>\n",
       "      <td>1.000000</td>\n",
       "      <td>0.000000</td>\n",
       "      <td>0.00000</td>\n",
       "      <td>0.000000</td>\n",
       "      <td>0.000000</td>\n",
       "      <td>0.000000</td>\n",
       "      <td>1.000000</td>\n",
       "      <td>0.000000</td>\n",
       "      <td>0.000000</td>\n",
       "    </tr>\n",
       "    <tr>\n",
       "      <td>50%</td>\n",
       "      <td>24.000000</td>\n",
       "      <td>4.000000</td>\n",
       "      <td>1.000000</td>\n",
       "      <td>0.000000</td>\n",
       "      <td>4.000000</td>\n",
       "      <td>0.000000</td>\n",
       "      <td>1.000000</td>\n",
       "      <td>1.000000</td>\n",
       "      <td>1.000000</td>\n",
       "      <td>0.000000</td>\n",
       "      <td>2.000000</td>\n",
       "      <td>1.000000</td>\n",
       "      <td>0.000000</td>\n",
       "      <td>1.00000</td>\n",
       "      <td>0.000000</td>\n",
       "      <td>1.000000</td>\n",
       "      <td>0.000000</td>\n",
       "      <td>1.000000</td>\n",
       "      <td>0.000000</td>\n",
       "      <td>1.000000</td>\n",
       "    </tr>\n",
       "    <tr>\n",
       "      <td>75%</td>\n",
       "      <td>38.000000</td>\n",
       "      <td>4.000000</td>\n",
       "      <td>1.000000</td>\n",
       "      <td>1.000000</td>\n",
       "      <td>6.000000</td>\n",
       "      <td>1.000000</td>\n",
       "      <td>1.000000</td>\n",
       "      <td>1.000000</td>\n",
       "      <td>1.000000</td>\n",
       "      <td>1.000000</td>\n",
       "      <td>3.000000</td>\n",
       "      <td>1.000000</td>\n",
       "      <td>0.000000</td>\n",
       "      <td>1.00000</td>\n",
       "      <td>0.000000</td>\n",
       "      <td>1.000000</td>\n",
       "      <td>0.000000</td>\n",
       "      <td>1.000000</td>\n",
       "      <td>0.000000</td>\n",
       "      <td>1.000000</td>\n",
       "    </tr>\n",
       "    <tr>\n",
       "      <td>max</td>\n",
       "      <td>49.000000</td>\n",
       "      <td>4.000000</td>\n",
       "      <td>3.000000</td>\n",
       "      <td>1.000000</td>\n",
       "      <td>6.000000</td>\n",
       "      <td>1.000000</td>\n",
       "      <td>1.000000</td>\n",
       "      <td>1.000000</td>\n",
       "      <td>1.000000</td>\n",
       "      <td>1.000000</td>\n",
       "      <td>3.000000</td>\n",
       "      <td>1.000000</td>\n",
       "      <td>1.000000</td>\n",
       "      <td>1.00000</td>\n",
       "      <td>1.000000</td>\n",
       "      <td>1.000000</td>\n",
       "      <td>1.000000</td>\n",
       "      <td>1.000000</td>\n",
       "      <td>1.000000</td>\n",
       "      <td>1.000000</td>\n",
       "    </tr>\n",
       "  </tbody>\n",
       "</table>\n",
       "</div>"
      ],
      "text/plain": [
       "               age        brush          tfb          bth  smoke in a day  \\\n",
       "count  1012.000000  1012.000000  1012.000000  1012.000000     1012.000000   \n",
       "mean     28.745059     3.805336     1.264822     0.294466        3.409091   \n",
       "std       9.223901     0.744682     0.556437     0.456028        2.645309   \n",
       "min      13.000000     0.000000     1.000000     0.000000        0.000000   \n",
       "25%      22.000000     4.000000     1.000000     0.000000        0.000000   \n",
       "50%      24.000000     4.000000     1.000000     0.000000        4.000000   \n",
       "75%      38.000000     4.000000     1.000000     1.000000        6.000000   \n",
       "max      49.000000     4.000000     3.000000     1.000000        6.000000   \n",
       "\n",
       "       drink alcohol       coffee        sweet     fastfood  binge eating  \\\n",
       "count    1012.000000  1012.000000  1012.000000  1012.000000   1012.000000   \n",
       "mean        0.389328     0.798419     0.544466     0.652174      0.311265   \n",
       "std         0.487839     0.401379     0.498265     0.476516      0.463240   \n",
       "min         0.000000     0.000000     0.000000     0.000000      0.000000   \n",
       "25%         0.000000     1.000000     0.000000     0.000000      0.000000   \n",
       "50%         0.000000     1.000000     1.000000     1.000000      0.000000   \n",
       "75%         1.000000     1.000000     1.000000     1.000000      1.000000   \n",
       "max         1.000000     1.000000     1.000000     1.000000      1.000000   \n",
       "\n",
       "       soft drinks-soda  open packets  chewing pen  nail biting  \\\n",
       "count       1012.000000   1012.000000  1012.000000   1012.00000   \n",
       "mean           1.923913      0.753953     0.243083      0.55336   \n",
       "std            0.830395      0.430919     0.429157      0.49739   \n",
       "min            0.000000      0.000000     0.000000      0.00000   \n",
       "25%            1.000000      1.000000     0.000000      0.00000   \n",
       "50%            2.000000      1.000000     0.000000      1.00000   \n",
       "75%            3.000000      1.000000     0.000000      1.00000   \n",
       "max            3.000000      1.000000     1.000000      1.00000   \n",
       "\n",
       "       grinding teeth  betel leaf-nut    toothpick    chocolate     diabetes  \\\n",
       "count     1012.000000     1012.000000  1012.000000  1012.000000  1012.000000   \n",
       "mean         0.175889        0.534585     0.218379     0.751976     0.148221   \n",
       "std          0.380914        0.499049     0.413351     0.432079     0.355495   \n",
       "min          0.000000        0.000000     0.000000     0.000000     0.000000   \n",
       "25%          0.000000        0.000000     0.000000     1.000000     0.000000   \n",
       "50%          0.000000        1.000000     0.000000     1.000000     0.000000   \n",
       "75%          0.000000        1.000000     0.000000     1.000000     0.000000   \n",
       "max          1.000000        1.000000     1.000000     1.000000     1.000000   \n",
       "\n",
       "            target  \n",
       "count  1012.000000  \n",
       "mean      0.600791  \n",
       "std       0.489978  \n",
       "min       0.000000  \n",
       "25%       0.000000  \n",
       "50%       1.000000  \n",
       "75%       1.000000  \n",
       "max       1.000000  "
      ]
     },
     "execution_count": 17,
     "metadata": {},
     "output_type": "execute_result"
    }
   ],
   "source": [
    "data.describe()"
   ]
  },
  {
   "cell_type": "code",
   "execution_count": 18,
   "metadata": {},
   "outputs": [
    {
     "data": {
      "text/plain": [
       "(1012, 20)"
      ]
     },
     "execution_count": 18,
     "metadata": {},
     "output_type": "execute_result"
    }
   ],
   "source": [
    "data.shape"
   ]
  },
  {
   "cell_type": "markdown",
   "metadata": {},
   "source": [
    "\n",
    "### Applying Machine Learning Algorithm using Sci-Kit learn choosing estimator\n",
    "* https://scikit-learn.org/stable/tutorial/machine_learning_map/index.html"
   ]
  },
  {
   "cell_type": "markdown",
   "metadata": {},
   "source": [
    "#### Modle to use\n",
    "* Linear SVC\n",
    "* KNeighbors Classifier\n",
    "* RandomForestClassifier\n",
    "* Logistic Regression"
   ]
  },
  {
   "cell_type": "code",
   "execution_count": 19,
   "metadata": {},
   "outputs": [],
   "source": [
    "# Separating Feature and Target/label "
   ]
  },
  {
   "cell_type": "code",
   "execution_count": 20,
   "metadata": {},
   "outputs": [],
   "source": [
    "featured_x = data.drop('target',axis=1)\n",
    "target_y = data['target']"
   ]
  },
  {
   "cell_type": "code",
   "execution_count": 21,
   "metadata": {},
   "outputs": [
    {
     "data": {
      "text/plain": [
       "((1012, 19), (1012,))"
      ]
     },
     "execution_count": 21,
     "metadata": {},
     "output_type": "execute_result"
    }
   ],
   "source": [
    "featured_x.shape, target_y.shape"
   ]
  },
  {
   "cell_type": "markdown",
   "metadata": {},
   "source": [
    "### Train Test Split"
   ]
  },
  {
   "cell_type": "code",
   "execution_count": 22,
   "metadata": {},
   "outputs": [],
   "source": [
    "from sklearn.model_selection import train_test_split"
   ]
  },
  {
   "cell_type": "code",
   "execution_count": 23,
   "metadata": {},
   "outputs": [],
   "source": [
    "np.random.seed(4)\n",
    "\n",
    "x_train,x_test,y_train,y_test = train_test_split(featured_x,target_y,test_size=0.2,shuffle=True)\n"
   ]
  },
  {
   "cell_type": "markdown",
   "metadata": {},
   "source": [
    "#### Linear SVC"
   ]
  },
  {
   "cell_type": "code",
   "execution_count": 24,
   "metadata": {},
   "outputs": [
    {
     "name": "stderr",
     "output_type": "stream",
     "text": [
      "E:\\Anaconda3\\lib\\site-packages\\sklearn\\svm\\base.py:193: FutureWarning: The default value of gamma will change from 'auto' to 'scale' in version 0.22 to account better for unscaled features. Set gamma explicitly to 'auto' or 'scale' to avoid this warning.\n",
      "  \"avoid this warning.\", FutureWarning)\n"
     ]
    },
    {
     "data": {
      "text/plain": [
       "0.7044334975369458"
      ]
     },
     "execution_count": 24,
     "metadata": {},
     "output_type": "execute_result"
    }
   ],
   "source": [
    "\n",
    "from sklearn import svm\n",
    "\n",
    "\n",
    "#clf\n",
    "svc_clf = svm.SVC(random_state=4)\n",
    "\n",
    "#Finding the pattern\n",
    "svc_clf.fit(x_train,y_train)\n",
    "\n",
    "#Checking accuracy\n",
    "svc_accuracy = svc_clf.score(x_test,y_test)\n",
    "svc_accuracy"
   ]
  },
  {
   "cell_type": "markdown",
   "metadata": {},
   "source": [
    "#### KNeighbors Classifier"
   ]
  },
  {
   "cell_type": "code",
   "execution_count": 25,
   "metadata": {},
   "outputs": [
    {
     "data": {
      "text/plain": [
       "0.6551724137931034"
      ]
     },
     "execution_count": 25,
     "metadata": {},
     "output_type": "execute_result"
    }
   ],
   "source": [
    "from sklearn.neighbors import KNeighborsClassifier\n",
    "\n",
    "\n",
    "#clf\n",
    "KN_clf = KNeighborsClassifier()\n",
    "\n",
    "#Findint the pattern\n",
    "KN_clf.fit(x_train,y_train)\n",
    "\n",
    "#checking Accuracy\n",
    "KN_accuracy = KN_clf.score(x_test,y_test)\n",
    "KN_accuracy"
   ]
  },
  {
   "cell_type": "markdown",
   "metadata": {},
   "source": [
    "#### RandomForestClassifier"
   ]
  },
  {
   "cell_type": "code",
   "execution_count": 26,
   "metadata": {},
   "outputs": [
    {
     "name": "stderr",
     "output_type": "stream",
     "text": [
      "E:\\Anaconda3\\lib\\site-packages\\sklearn\\ensemble\\forest.py:245: FutureWarning: The default value of n_estimators will change from 10 in version 0.20 to 100 in 0.22.\n",
      "  \"10 in version 0.20 to 100 in 0.22.\", FutureWarning)\n"
     ]
    },
    {
     "data": {
      "text/plain": [
       "0.6699507389162561"
      ]
     },
     "execution_count": 26,
     "metadata": {},
     "output_type": "execute_result"
    }
   ],
   "source": [
    "from sklearn.ensemble import RandomForestClassifier\n",
    "\n",
    "\n",
    "#clf\n",
    "forest_clf = RandomForestClassifier(random_state=4)\n",
    "\n",
    "#Finding the Pattern\n",
    "forest_clf.fit(x_train,y_train)\n",
    "\n",
    "\n",
    "#checking accuracy\n",
    "forest_accuracy = forest_clf.score(x_test,y_test)\n",
    "forest_accuracy"
   ]
  },
  {
   "cell_type": "markdown",
   "metadata": {},
   "source": [
    "#### Logistic Regression (classifier)"
   ]
  },
  {
   "cell_type": "code",
   "execution_count": 27,
   "metadata": {},
   "outputs": [
    {
     "name": "stderr",
     "output_type": "stream",
     "text": [
      "E:\\Anaconda3\\lib\\site-packages\\sklearn\\linear_model\\logistic.py:432: FutureWarning: Default solver will be changed to 'lbfgs' in 0.22. Specify a solver to silence this warning.\n",
      "  FutureWarning)\n"
     ]
    },
    {
     "data": {
      "text/plain": [
       "0.6798029556650246"
      ]
     },
     "execution_count": 27,
     "metadata": {},
     "output_type": "execute_result"
    }
   ],
   "source": [
    "from sklearn.linear_model import LogisticRegression\n",
    "\n",
    "np.random.seed(34)\n",
    "#clf\n",
    "logic_clf = LogisticRegression(random_state=4)\n",
    "\n",
    "#Finding the pattern\n",
    "logic_clf.fit(x_train,y_train)\n",
    "\n",
    "\n",
    "#Finding the accuracy\n",
    "logic_accuracy = logic_clf.score(x_test,y_test)\n",
    "logic_accuracy"
   ]
  },
  {
   "cell_type": "markdown",
   "metadata": {},
   "source": [
    "#### Making a function to easily compare all the model accuracy"
   ]
  },
  {
   "cell_type": "code",
   "execution_count": 28,
   "metadata": {},
   "outputs": [],
   "source": [
    "model_dict = {'svc':svm.SVC(random_state=4),\n",
    "             'kneighbor':KNeighborsClassifier(),\n",
    "             'randomForest':RandomForestClassifier(random_state=4),\n",
    "            'logistic':LogisticRegression(random_state=4),}\n",
    "\n",
    "#creating a function to fit and getting score of models \n",
    "def model_fit_score(model,x_train,x_test,y_train,y_test):\n",
    "    \n",
    "    model_score = {}\n",
    "    \n",
    "    for name,model in model_dict.items():\n",
    "        #Fit the models\n",
    "        model.fit(x_train,y_train)\n",
    "        #Evaluate the model\n",
    "        model_score[name] = model.score(x_test,y_test)\n",
    "    return model_score"
   ]
  },
  {
   "cell_type": "code",
   "execution_count": 29,
   "metadata": {},
   "outputs": [
    {
     "name": "stderr",
     "output_type": "stream",
     "text": [
      "E:\\Anaconda3\\lib\\site-packages\\sklearn\\svm\\base.py:193: FutureWarning: The default value of gamma will change from 'auto' to 'scale' in version 0.22 to account better for unscaled features. Set gamma explicitly to 'auto' or 'scale' to avoid this warning.\n",
      "  \"avoid this warning.\", FutureWarning)\n",
      "E:\\Anaconda3\\lib\\site-packages\\sklearn\\ensemble\\forest.py:245: FutureWarning: The default value of n_estimators will change from 10 in version 0.20 to 100 in 0.22.\n",
      "  \"10 in version 0.20 to 100 in 0.22.\", FutureWarning)\n",
      "E:\\Anaconda3\\lib\\site-packages\\sklearn\\linear_model\\logistic.py:432: FutureWarning: Default solver will be changed to 'lbfgs' in 0.22. Specify a solver to silence this warning.\n",
      "  FutureWarning)\n"
     ]
    },
    {
     "data": {
      "text/plain": [
       "{'svc': 0.7044334975369458,\n",
       " 'kneighbor': 0.6551724137931034,\n",
       " 'randomForest': 0.6699507389162561,\n",
       " 'logistic': 0.6798029556650246}"
      ]
     },
     "execution_count": 29,
     "metadata": {},
     "output_type": "execute_result"
    }
   ],
   "source": [
    "#running the function\n",
    "\n",
    "model_accuracy = model_fit_score(model=model_dict,x_train=x_train,x_test=x_test,y_train=y_train,y_test=y_test)\n",
    "\n",
    "model_accuracy"
   ]
  },
  {
   "cell_type": "code",
   "execution_count": 30,
   "metadata": {},
   "outputs": [
    {
     "data": {
      "text/html": [
       "<div>\n",
       "<style scoped>\n",
       "    .dataframe tbody tr th:only-of-type {\n",
       "        vertical-align: middle;\n",
       "    }\n",
       "\n",
       "    .dataframe tbody tr th {\n",
       "        vertical-align: top;\n",
       "    }\n",
       "\n",
       "    .dataframe thead th {\n",
       "        text-align: right;\n",
       "    }\n",
       "</style>\n",
       "<table border=\"1\" class=\"dataframe\">\n",
       "  <thead>\n",
       "    <tr style=\"text-align: right;\">\n",
       "      <th></th>\n",
       "      <th>svc</th>\n",
       "      <th>kneighbor</th>\n",
       "      <th>randomForest</th>\n",
       "      <th>logistic</th>\n",
       "    </tr>\n",
       "  </thead>\n",
       "  <tbody>\n",
       "    <tr>\n",
       "      <td>accuracy</td>\n",
       "      <td>0.704433</td>\n",
       "      <td>0.655172</td>\n",
       "      <td>0.669951</td>\n",
       "      <td>0.679803</td>\n",
       "    </tr>\n",
       "  </tbody>\n",
       "</table>\n",
       "</div>"
      ],
      "text/plain": [
       "               svc  kneighbor  randomForest  logistic\n",
       "accuracy  0.704433   0.655172      0.669951  0.679803"
      ]
     },
     "execution_count": 30,
     "metadata": {},
     "output_type": "execute_result"
    }
   ],
   "source": [
    "#### Visualizing the comparison\n",
    "model_compare = pd.DataFrame(model_accuracy,index=['accuracy'])\n",
    "model_compare"
   ]
  },
  {
   "cell_type": "code",
   "execution_count": 31,
   "metadata": {},
   "outputs": [
    {
     "data": {
      "image/png": "[encoded data removed]",
      "text/plain": [
       "<Figure size 864x576 with 1 Axes>"
      ]
     },
     "metadata": {
      "needs_background": "light"
     },
     "output_type": "display_data"
    }
   ],
   "source": [
    "model_compare.T.plot(figsize=(12,8), kind='barh',color=['lightseagreen'])\n",
    "plt.ylabel('Sci-Kit Models')\n",
    "plt.xlabel('Accuracy Label')\n",
    "\n",
    "plt.title('Comparison of Score',fontsize=15)\n",
    "plt.xticks(rotation=0)\n",
    "\n",
    "plt.show()"
   ]
  },
  {
   "cell_type": "code",
   "execution_count": 32,
   "metadata": {},
   "outputs": [],
   "source": [
    "#### From this visualization we can see (RandomForestClassifier) and (Logistic Regression) will be good model for this data"
   ]
  },
  {
   "cell_type": "markdown",
   "metadata": {},
   "source": [
    "# ROC CURVE and confusion matrix for logistic regression"
   ]
  },
  {
   "cell_type": "code",
   "execution_count": 33,
   "metadata": {},
   "outputs": [
    {
     "ename": "ImportError",
     "evalue": "cannot import name 'plot_roc_curve' from 'sklearn.metrics' (E:\\Anaconda3\\lib\\site-packages\\sklearn\\metrics\\__init__.py)",
     "output_type": "error",
     "traceback": [
      "\u001b[1;31m---------------------------------------------------------------------------\u001b[0m",
      "\u001b[1;31mImportError\u001b[0m                               Traceback (most recent call last)",
      "\u001b[1;32m<ipython-input-33-8177994a4b46>\u001b[0m in \u001b[0;36m<module>\u001b[1;34m\u001b[0m\n\u001b[1;32m----> 1\u001b[1;33m \u001b[1;32mfrom\u001b[0m \u001b[0msklearn\u001b[0m\u001b[1;33m.\u001b[0m\u001b[0mmetrics\u001b[0m \u001b[1;32mimport\u001b[0m \u001b[0mconfusion_matrix\u001b[0m\u001b[1;33m,\u001b[0m\u001b[0mplot_roc_curve\u001b[0m\u001b[1;33m\u001b[0m\u001b[1;33m\u001b[0m\u001b[0m\n\u001b[0m",
      "\u001b[1;31mImportError\u001b[0m: cannot import name 'plot_roc_curve' from 'sklearn.metrics' (E:\\Anaconda3\\lib\\site-packages\\sklearn\\metrics\\__init__.py)"
     ]
    }
   ],
   "source": [
    "from sklearn.metrics import confusion_matrix,plot_roc_curve"
   ]
  },
  {
   "cell_type": "code",
   "execution_count": null,
   "metadata": {},
   "outputs": [],
   "source": [
    "plt.figure(figsize=(16,7))\n",
    "ax = plt.gca()\n",
    "\n",
    "plot_roc_curve(logic_clf,x_test,y_test,ax=ax,c='red')\n",
    "plot_roc_curve(forest_clf,x_test,y_test,ax=ax)\n",
    "plot_roc_curve(svc_clf,x_test,y_test,ax=ax)\n",
    "plot_roc_curve(KN_clf,x_test,y_test,ax=ax,c='black')\n",
    "\n",
    "plt.show()\n"
   ]
  },
  {
   "cell_type": "markdown",
   "metadata": {},
   "source": [
    "## TUNNING PARAMATER (HYPERPARAMETER TUNNING) with Cross Validation"
   ]
  },
  {
   "cell_type": "markdown",
   "metadata": {},
   "source": [
    "#### RandomizedSearchCV"
   ]
  },
  {
   "cell_type": "code",
   "execution_count": null,
   "metadata": {},
   "outputs": [],
   "source": [
    "from sklearn.model_selection import RandomizedSearchCV"
   ]
  },
  {
   "cell_type": "markdown",
   "metadata": {},
   "source": [
    "#### RandomForestClassifier with RandomizedSearchCV"
   ]
  },
  {
   "cell_type": "code",
   "execution_count": null,
   "metadata": {},
   "outputs": [],
   "source": [
    "#checking parameters\n",
    "forest_clf.get_params()"
   ]
  },
  {
   "cell_type": "code",
   "execution_count": null,
   "metadata": {},
   "outputs": [],
   "source": [
    "forest_random_param = {'n_estimators':np.arange(100,1000,100),\n",
    "                      'max_depth':[None,3,5,10],\n",
    "                      'min_samples_split':np.arange(2,10,2),\n",
    "                      'min_samples_leaf':np.arange(1,20,2)}"
   ]
  },
  {
   "cell_type": "code",
   "execution_count": null,
   "metadata": {},
   "outputs": [],
   "source": [
    "#new clf with RandomizedSearchCV\n",
    "forest_clf_randS = RandomizedSearchCV(forest_clf,cv=5,param_distributions=forest_random_param,verbose=True,n_iter=50)\n",
    "\n",
    "#finding pattern with RandomizedSearchCV\n",
    "forest_clf_randS.fit(x_test,y_test)"
   ]
  },
  {
   "cell_type": "code",
   "execution_count": null,
   "metadata": {},
   "outputs": [],
   "source": [
    "forest_clf_randS.best_params_"
   ]
  },
  {
   "cell_type": "code",
   "execution_count": null,
   "metadata": {},
   "outputs": [],
   "source": [
    "#getting the accuracy with new params\n",
    "randCV_forest_accuracy = forest_clf_randS.score(x_test,y_test)\n",
    "randCV_forest_accuracy"
   ]
  },
  {
   "cell_type": "markdown",
   "metadata": {},
   "source": [
    "#### LogisticRegression with RandomizedSearchCV"
   ]
  },
  {
   "cell_type": "code",
   "execution_count": null,
   "metadata": {},
   "outputs": [],
   "source": [
    "#checking params\n",
    "logic_clf.get_params()"
   ]
  },
  {
   "cell_type": "code",
   "execution_count": null,
   "metadata": {},
   "outputs": [],
   "source": [
    "#parameter dict\n",
    "logic_random_param = {'C': np.logspace(-4,4,80), \n",
    "                  'solver':['liblinear']}"
   ]
  },
  {
   "cell_type": "code",
   "execution_count": null,
   "metadata": {},
   "outputs": [],
   "source": [
    "#new clf for logic\n",
    "logic_clf_randS = RandomizedSearchCV(logic_clf,cv=5,param_distributions=logic_random_param,verbose=True,n_iter=150)\n",
    "\n",
    "#finding the pattern\n",
    "logic_clf_randS.fit(x_test,y_test)"
   ]
  },
  {
   "cell_type": "code",
   "execution_count": null,
   "metadata": {},
   "outputs": [],
   "source": [
    "#checking best Param\n",
    "logic_clf_randS.best_params_"
   ]
  },
  {
   "cell_type": "code",
   "execution_count": null,
   "metadata": {},
   "outputs": [],
   "source": [
    "#accuracy with best param\n",
    "randCV_logic_accuracy = logic_clf_randS.score(x_test,y_test)\n",
    "randCV_logic_accuracy"
   ]
  },
  {
   "cell_type": "markdown",
   "metadata": {},
   "source": [
    "### VISUALIZING THE RANDOMIZED SEARCH CV (RandomForestCLassifier and LogisticRegression)"
   ]
  },
  {
   "cell_type": "code",
   "execution_count": null,
   "metadata": {},
   "outputs": [],
   "source": [
    "randCV_accuracy_dict = {'Logistic':randCV_logic_accuracy,\n",
    "                       'RandomForest':randCV_forest_accuracy}"
   ]
  },
  {
   "cell_type": "code",
   "execution_count": null,
   "metadata": {},
   "outputs": [],
   "source": [
    "randCV_accuracy_dict"
   ]
  },
  {
   "cell_type": "code",
   "execution_count": null,
   "metadata": {},
   "outputs": [],
   "source": [
    "randCV_accuracy_df = pd.DataFrame(randCV_accuracy_dict,index=['accuracy'])"
   ]
  },
  {
   "cell_type": "code",
   "execution_count": null,
   "metadata": {},
   "outputs": [],
   "source": [
    "randCV_accuracy_df.T.plot(figsize=(12,8), kind='barh',color=['teal'])\n",
    "plt.ylabel('Sci-Kit Models')\n",
    "plt.xlabel('Accuracy Label')\n",
    "\n",
    "plt.title('Comparison of Score RandSearchCV',fontsize=15)\n",
    "plt.xticks(rotation=0)\n",
    "\n",
    "plt.show()\n",
    "\n"
   ]
  },
  {
   "cell_type": "code",
   "execution_count": null,
   "metadata": {},
   "outputs": [],
   "source": [
    "#baseline and Randomized search CV\n",
    "baseline_randomizeCV_dict = {'logic_baseline':logic_accuracy,\n",
    "                            'logic_randCV':randCV_logic_accuracy,\n",
    "                            'forest_baseline':forest_accuracy,\n",
    "                            'forest_randCV':randCV_forest_accuracy}"
   ]
  },
  {
   "cell_type": "code",
   "execution_count": null,
   "metadata": {},
   "outputs": [],
   "source": [
    "baseline_randomizeCV_df = pd.DataFrame(baseline_randomizeCV_dict,index=['accuracy'])\n",
    "\n",
    "baseline_randomizeCV_df = baseline_randomizeCV_df.T\n",
    "\n"
   ]
  },
  {
   "cell_type": "code",
   "execution_count": null,
   "metadata": {},
   "outputs": [],
   "source": [
    "#Visualizing it\n",
    "fig, ax = plt.subplots(figsize=(15,8))\n",
    "\n",
    "ax.bar(['BaseLine Logic','RandCV Logic','BaseLine Forest','RandCV Forest'],\n",
    "       baseline_randomizeCV_df['accuracy'], color=['darkorange','lightseagreen','darkorange','lightseagreen'])\n",
    "\n",
    "ax.set_title('Comparison of Accuracy(baseline vs randCV)',fontsize=20)\n",
    "ax.set_ylabel('Accuracy',fontsize=12)\n",
    "ax.set_xlabel('Models',fontsize=12)\n",
    "\n",
    "plt.show()\n",
    "\n"
   ]
  },
  {
   "cell_type": "code",
   "execution_count": null,
   "metadata": {},
   "outputs": [],
   "source": []
  },
  {
   "cell_type": "markdown",
   "metadata": {},
   "source": [
    "# Checking ROC curve for Randomized SearchCV ( LOgistic Regression and RandomForest Regression)"
   ]
  },
  {
   "cell_type": "code",
   "execution_count": null,
   "metadata": {},
   "outputs": [],
   "source": [
    "plt.figure(figsize=(16,7))\n",
    "ax = plt.gca()\n",
    "\n",
    "plot_roc_curve(forest_clf_randS,x_test,y_test,ax=ax,c='red')\n",
    "\n",
    "plot_roc_curve(logic_clf_randS,x_test,y_test,ax=ax,c='black')\n",
    "\n",
    "#plt.legend(['Random Forest','Logistic Regression'])\n",
    "\n",
    "plt.show()"
   ]
  },
  {
   "cell_type": "markdown",
   "metadata": {},
   "source": [
    "### We need to exhaustively search the pattern with Logistic Regression and RandomForestRegression for best result"
   ]
  },
  {
   "cell_type": "markdown",
   "metadata": {},
   "source": [
    "# Improving Logistic Regression"
   ]
  },
  {
   "cell_type": "code",
   "execution_count": null,
   "metadata": {},
   "outputs": [],
   "source": [
    "from sklearn.model_selection import GridSearchCV"
   ]
  },
  {
   "cell_type": "code",
   "execution_count": null,
   "metadata": {},
   "outputs": [],
   "source": [
    "logic_clf.get_params()"
   ]
  },
  {
   "cell_type": "code",
   "execution_count": null,
   "metadata": {},
   "outputs": [],
   "source": [
    "#creating params dictionary for GridSearchCV\n",
    "logic_grid_params = {'C':np.logspace(-4,4,100),\n",
    "                       'solver':['liblinear']}\n",
    "\n",
    "## Different parameter we could try\n",
    "\n",
    "# logic_grid_params2 = {'solver' : ['newton-cg', 'lbfgs', 'liblinear'],\n",
    "#                         'penalty' : ['l2'],\n",
    "#                             'C' : [100, 10, 1.0, 0.1, 0.01]}\n",
    "\n",
    "# penalty = ['l1', 'l2']\n",
    "# C = [0.0001, 0.001, 0.01, 0.1, 1, 10, 100, 1000]\n",
    "# class_weight = [{1:0.5, 0:0.5}, {1:0.4, 0:0.6}, {1:0.6, 0:0.4}, {1:0.7, 0:0.3}]\n",
    "# solver = ['liblinear', 'saga']\n",
    "\n",
    "# l_param_grid = dict(penalty=penalty,\n",
    "#                   C=C,\n",
    "#                   class_weight=class_weight,\n",
    "#                   solver=solver)\n"
   ]
  },
  {
   "cell_type": "code",
   "execution_count": null,
   "metadata": {},
   "outputs": [],
   "source": [
    "#creating Grid CLF\n",
    "logic_clf_grid = GridSearchCV(logic_clf,cv=5, param_grid=logic_grid_params,verbose=True)\n",
    "\n",
    "#Finding the pattern\n",
    "logic_clf_grid.fit(x_train,y_train)"
   ]
  },
  {
   "cell_type": "code",
   "execution_count": null,
   "metadata": {},
   "outputs": [],
   "source": [
    "#checking best params\n",
    "logic_clf_grid.best_params_"
   ]
  },
  {
   "cell_type": "code",
   "execution_count": null,
   "metadata": {},
   "outputs": [],
   "source": [
    "#checking Grid Accuracy\n",
    "logic_grid_score = logic_clf_grid.score(x_test,y_test)\n",
    "logic_grid_score"
   ]
  },
  {
   "cell_type": "markdown",
   "metadata": {},
   "source": [
    "# Improving RandomForestClassifier"
   ]
  },
  {
   "cell_type": "code",
   "execution_count": null,
   "metadata": {},
   "outputs": [],
   "source": [
    "forest_grid_params = {'n_estimators':[100,200],\n",
    "                  'min_samples_split':[4,6],\n",
    "                  'min_samples_leaf':[1,4],\n",
    "                  'max_features':['auto'],\n",
    "                  'max_depth':[None,30]}"
   ]
  },
  {
   "cell_type": "code",
   "execution_count": null,
   "metadata": {},
   "outputs": [],
   "source": [
    "#creating grid clf for forest\n",
    "forest_clf_grid = GridSearchCV(forest_clf,cv=5,verbose=True,param_grid=forest_grid_params)\n",
    "\n",
    "#finding pattern\n",
    "forest_clf_grid.fit(x_train,y_train)"
   ]
  },
  {
   "cell_type": "code",
   "execution_count": null,
   "metadata": {},
   "outputs": [],
   "source": [
    "forest_clf_grid.best_params_"
   ]
  },
  {
   "cell_type": "code",
   "execution_count": null,
   "metadata": {},
   "outputs": [],
   "source": [
    "forest_grid_score = forest_clf_grid.score(x_test,y_test)\n",
    "forest_grid_score"
   ]
  },
  {
   "cell_type": "code",
   "execution_count": null,
   "metadata": {},
   "outputs": [],
   "source": [
    "### IMPROVED GridSearchCV Result\n",
    "grid_score_dict = {'Logic_Grid':logic_grid_score,\n",
    "                  'Forest_Grid':forest_grid_score}"
   ]
  },
  {
   "cell_type": "code",
   "execution_count": null,
   "metadata": {},
   "outputs": [],
   "source": [
    "grid_score_df = pd.DataFrame(grid_score_dict,index=['accuracy'])\n",
    "\n",
    "\n",
    "\n",
    "rand_vs_grid = grid_score_df.copy()\n",
    "\n",
    "grid_score_df"
   ]
  },
  {
   "cell_type": "code",
   "execution_count": null,
   "metadata": {},
   "outputs": [],
   "source": [
    "plt.figure(figsize=(16,7))\n",
    "ax = plt.gca()\n",
    "\n",
    "plot_roc_curve(forest_clf_grid,x_test,y_test,ax=ax,c='red')\n",
    "\n",
    "plot_roc_curve(logic_clf_grid,x_test,y_test,ax=ax,c='black')\n",
    "\n",
    "plt.title('GridSearch CV',fontsize=20)\n",
    "#plt.legend(['Random Forest','Logistic Regression'])\n",
    "\n",
    "plt.show()"
   ]
  },
  {
   "cell_type": "markdown",
   "metadata": {},
   "source": [
    "# comparing the gridSearchCV vs the RandomizedSearchCV"
   ]
  },
  {
   "cell_type": "code",
   "execution_count": null,
   "metadata": {},
   "outputs": [],
   "source": [
    "\n",
    "rand_vs_grid[['Rand_logic','Rand_forest']] = [randCV_logic_accuracy,randCV_forest_accuracy]"
   ]
  },
  {
   "cell_type": "code",
   "execution_count": null,
   "metadata": {},
   "outputs": [],
   "source": [
    "rand_vs_grid"
   ]
  },
  {
   "cell_type": "code",
   "execution_count": null,
   "metadata": {},
   "outputs": [],
   "source": [
    "rand_vs_grid.columns"
   ]
  },
  {
   "cell_type": "code",
   "execution_count": null,
   "metadata": {},
   "outputs": [],
   "source": [
    "rand_vs_grid.columns = ['Logic_Grid','Rand_logic', 'Forest_Grid', 'Rand_forest']"
   ]
  },
  {
   "cell_type": "code",
   "execution_count": null,
   "metadata": {},
   "outputs": [],
   "source": [
    "rand_vs_grid\n",
    "rand_vs_grid = rand_vs_grid.T\n",
    "rand_vs_grid"
   ]
  },
  {
   "cell_type": "code",
   "execution_count": null,
   "metadata": {},
   "outputs": [],
   "source": [
    "#Visualizing it\n",
    "fig, ax = plt.subplots(figsize=(15,8))\n",
    "\n",
    "ax.bar(['Logistic GridCV','Logistic RandCV','Forest GridCV','Forest RandCV'],\n",
    "       rand_vs_grid['accuracy'], color=['crimson','teal','crimson','teal'])\n",
    "\n",
    "ax.set_title('Comparison of Accuracy(GridCV vs RandCV)',fontsize=20)\n",
    "ax.set_ylabel('Accuracy',fontsize=12)\n",
    "ax.set_xlabel('Models',fontsize=12)\n",
    "\n",
    "plt.show()\n"
   ]
  },
  {
   "cell_type": "code",
   "execution_count": null,
   "metadata": {},
   "outputs": [],
   "source": [
    "## Checking the ROC CURVE\n",
    "plt.figure(figsize=(16,7))\n",
    "ax = plt.gca()\n",
    "\n",
    "plot_roc_curve(forest_clf_grid,x_test,y_test,ax=ax,c='red') # red meaning RandomForest with Grid Search CV\n",
    "\n",
    "plot_roc_curve(logic_clf_grid,x_test,y_test,ax=ax,c='black') # Black meaning Logistic with Grid Search CV\n",
    "\n",
    "plot_roc_curve(forest_clf_randS,x_test,y_test,ax=ax,c='cyan') # cyan meaning RandomForest with Random Search CV\n",
    "\n",
    "plot_roc_curve(logic_clf_randS,x_test,y_test,ax=ax,c='blue')#blue meaning RandomForest with Random Search CV\n",
    "\n",
    "plt.title('GridSearch CV',fontsize=20)\n",
    "#plt.legend(['Random Forest','Logistic Regression'])\n",
    "\n",
    "plt.show()"
   ]
  },
  {
   "cell_type": "code",
   "execution_count": null,
   "metadata": {},
   "outputs": [],
   "source": [
    "# we see RandomForestClassifier with RandomSearchCV showing the best results "
   ]
  },
  {
   "cell_type": "markdown",
   "metadata": {},
   "source": [
    "## Evalute the model with Confusion matrix, classification_report"
   ]
  },
  {
   "cell_type": "code",
   "execution_count": null,
   "metadata": {},
   "outputs": [],
   "source": [
    "#predicting the result\n",
    "predict_result = forest_clf_randS.predict(x_test)"
   ]
  },
  {
   "cell_type": "code",
   "execution_count": null,
   "metadata": {},
   "outputs": [],
   "source": [
    "predict_result"
   ]
  },
  {
   "cell_type": "code",
   "execution_count": null,
   "metadata": {},
   "outputs": [],
   "source": [
    "np.array(y_test) #original test data"
   ]
  },
  {
   "cell_type": "code",
   "execution_count": null,
   "metadata": {},
   "outputs": [],
   "source": [
    "predict_result == np.array(y_test)"
   ]
  },
  {
   "cell_type": "code",
   "execution_count": null,
   "metadata": {},
   "outputs": [],
   "source": [
    "#checking with confusion matrix\n",
    "confusion_matrix(y_test,predict_result)"
   ]
  },
  {
   "cell_type": "code",
   "execution_count": null,
   "metadata": {},
   "outputs": [],
   "source": [
    "#visualize it \n",
    "#visualize the confusion matrix with heatmap\n",
    "def plot_confusion_matrix(y_test,y_preds):\n",
    "    fig,ax = plt.subplots(figsize=(5,5))\n",
    "    ax = sns.heatmap(confusion_matrix(y_test,y_preds),annot=True,cbar=True,cmap='summer',fmt='d')\n",
    "    \n",
    "    plt.xlabel('True Label')\n",
    "    plt.ylabel('Predictable Label')\n",
    "    \n",
    "    plt.show()"
   ]
  },
  {
   "cell_type": "code",
   "execution_count": null,
   "metadata": {},
   "outputs": [],
   "source": [
    "plot_confusion_matrix(y_test,predict_result)"
   ]
  },
  {
   "cell_type": "markdown",
   "metadata": {},
   "source": [
    "* here the annot value = top_right, is false negative = model predict 0(negative) when the truth is 1 which means False negative predict\n",
    "* here the annot value = bottom_left, is false positive = model predict 1(positive) when the truth is 0 which means False positive predict"
   ]
  },
  {
   "cell_type": "code",
   "execution_count": null,
   "metadata": {},
   "outputs": [],
   "source": [
    "#we can see from this heatmap. our predicted result fail to predict (22 + 4) value"
   ]
  },
  {
   "cell_type": "code",
   "execution_count": null,
   "metadata": {},
   "outputs": [],
   "source": [
    "from sklearn.metrics import classification_report,precision_score,f1_score,recall_score"
   ]
  },
  {
   "cell_type": "code",
   "execution_count": null,
   "metadata": {},
   "outputs": [],
   "source": [
    "#simple classification report #only on one simple test data not cross validated\n",
    "print(classification_report(y_test,predict_result))"
   ]
  },
  {
   "cell_type": "code",
   "execution_count": null,
   "metadata": {},
   "outputs": [],
   "source": [
    "from sklearn.model_selection import cross_val_score"
   ]
  },
  {
   "cell_type": "code",
   "execution_count": null,
   "metadata": {},
   "outputs": [],
   "source": [
    "\n",
    "def cv_metrics_report(model,x,y):\n",
    "    accuracy = cross_val_score(model,x,y,cv=5,scoring='accuracy')\n",
    "    precision = cross_val_score(model,x,y,cv=5,scoring='precision')\n",
    "    recall = cross_val_score(model,x,y,cv=5,scoring='recall')\n",
    "    f1 = cross_val_score(model,x,y,cv=5,scoring='f1')\n",
    "    data_dict = { 'Accuracy': np.mean(accuracy),\n",
    "                'Precision': np.mean(precision),\n",
    "                'Recall': np.mean(recall),\n",
    "                'f1':np.mean(f1)}\n",
    "    \n",
    "    \n",
    "    return data_dict"
   ]
  },
  {
   "cell_type": "code",
   "execution_count": null,
   "metadata": {},
   "outputs": [],
   "source": [
    "forest_clf_randS.best_params_"
   ]
  },
  {
   "cell_type": "code",
   "execution_count": null,
   "metadata": {},
   "outputs": [],
   "source": [
    "clf_best = RandomForestClassifier(n_estimators=300,min_samples_leaf=3,min_samples_split=6,max_depth=None)"
   ]
  },
  {
   "cell_type": "code",
   "execution_count": null,
   "metadata": {},
   "outputs": [],
   "source": [
    "cv_metrics_report(clf_best,featured_x,target_y)"
   ]
  },
  {
   "cell_type": "code",
   "execution_count": null,
   "metadata": {},
   "outputs": [],
   "source": [
    "##\n",
    "logic_clf_randS.best_params_"
   ]
  },
  {
   "cell_type": "code",
   "execution_count": null,
   "metadata": {},
   "outputs": [],
   "source": [
    "clf_best_logic = LogisticRegression(solver ='liblinear', C=  0.7048574036451903)"
   ]
  },
  {
   "cell_type": "code",
   "execution_count": null,
   "metadata": {},
   "outputs": [],
   "source": [
    "cv_metrics_report(clf_best_logic,featured_x,target_y)"
   ]
  },
  {
   "cell_type": "code",
   "execution_count": null,
   "metadata": {},
   "outputs": [],
   "source": [
    "# we can see from the report RandomForestClassifier still showing better results than logistic Regression"
   ]
  },
  {
   "cell_type": "markdown",
   "metadata": {},
   "source": [
    "## Saving the model"
   ]
  },
  {
   "cell_type": "code",
   "execution_count": null,
   "metadata": {},
   "outputs": [],
   "source": [
    "from joblib import dump,load\n",
    "dump(forest_clf_randS,filename='rscv_random_forest.joblib')"
   ]
  },
  {
   "cell_type": "code",
   "execution_count": null,
   "metadata": {},
   "outputs": [],
   "source": [
    "from joblib import dump,load\n",
    "#### Loading the model\n",
    "joblib_model = load(filename='rscv_random_forest.joblib')\n"
   ]
  },
  {
   "cell_type": "code",
   "execution_count": null,
   "metadata": {},
   "outputs": [],
   "source": [
    "## PREDICTING WITH THE MODEL"
   ]
  },
  {
   "cell_type": "code",
   "execution_count": null,
   "metadata": {},
   "outputs": [],
   "source": [
    "featured_x.iloc[:10]"
   ]
  },
  {
   "cell_type": "code",
   "execution_count": null,
   "metadata": {},
   "outputs": [],
   "source": [
    "pd.Series(joblib_model.predict(featured_x)).value_counts()"
   ]
  },
  {
   "cell_type": "code",
   "execution_count": null,
   "metadata": {},
   "outputs": [],
   "source": [
    "target_y.value_counts()"
   ]
  },
  {
   "cell_type": "code",
   "execution_count": null,
   "metadata": {},
   "outputs": [],
   "source": []
  },
  {
   "cell_type": "code",
   "execution_count": null,
   "metadata": {},
   "outputs": [],
   "source": [
    "plot_confusion_matrix(target_y,joblib_model.predict(featured_x))"
   ]
  },
  {
   "cell_type": "code",
   "execution_count": null,
   "metadata": {},
   "outputs": [],
   "source": [
    "print(classification_report(target_y,joblib_model.predict(featured_x))) #without cross-Validation"
   ]
  },
  {
   "cell_type": "code",
   "execution_count": null,
   "metadata": {},
   "outputs": [],
   "source": [
    "cv_metrics_report(clf_best,featured_x,target_y) #with cross-validate"
   ]
  },
  {
   "cell_type": "code",
   "execution_count": null,
   "metadata": {},
   "outputs": [],
   "source": [
    "randCV_forest_accuracy #working with only train data but with the classification report the model is not so good or not so bad"
   ]
  },
  {
   "cell_type": "code",
   "execution_count": null,
   "metadata": {},
   "outputs": [],
   "source": [
    "#Most cases the model will predict 1 . \n",
    "#needed more data#\n",
    "#or # the target column on the dataset filled by false result ."
   ]
  },
  {
   "cell_type": "code",
   "execution_count": null,
   "metadata": {},
   "outputs": [],
   "source": [
    "joblib_model.predict(featured_x[:5]) #predicted result"
   ]
  },
  {
   "cell_type": "code",
   "execution_count": null,
   "metadata": {},
   "outputs": [],
   "source": [
    "target_y[:5] #original data"
   ]
  },
  {
   "cell_type": "code",
   "execution_count": null,
   "metadata": {},
   "outputs": [],
   "source": []
  }
 ],
 "metadata": {
  "kernelspec": {
   "display_name": "Python 3",
   "language": "python",
   "name": "python3"
  },
  "language_info": {
   "codemirror_mode": {
    "name": "ipython",
    "version": 3
   },
   "file_extension": ".py",
   "mimetype": "text/x-python",
   "name": "python",
   "nbconvert_exporter": "python",
   "pygments_lexer": "ipython3",
   "version": "3.7.4"
  }
 },
 "nbformat": 4,
 "nbformat_minor": 2
}
